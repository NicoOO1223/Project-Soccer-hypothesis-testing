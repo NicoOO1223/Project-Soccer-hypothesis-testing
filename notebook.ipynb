{
 "cells": [
  {
   "cell_type": "code",
   "execution_count": null,
   "id": "eb3e3c81",
   "metadata": {},
   "outputs": [],
   "source": [
    "import pandas as pd\n",
    "\n",
    "men_data = pd.read_csv('men_results.csv')\n",
    "women_data = pd.read_csv('women_results.csv')\n",
    "men_data['date'] = pd.to_datetime(men_data['date'])\n",
    "women_data['date'] = pd.to_datetime(women_data['date'])\n",
    "\n",
    "men_data = men_data[(men_data['tournament'] == 'FIFA World Cup') & (men_data['date'] >= '2002-01-01')]\n",
    "women_data = women_data[(women_data['tournament'] == 'FIFA World Cup') & (women_data['date'] >= '2002-01-01')]\n",
    "\n"
   ]
  },
  {
   "cell_type": "code",
   "execution_count": null,
   "id": "8976d6c6",
   "metadata": {},
   "outputs": [],
   "source": [
    "men_data['total_score'] = men_data['home_score'] + men_data['away_score']\n",
    "women_data['total_score'] = women_data['home_score'] + women_data['away_score']\n",
    "\n",
    "import matplotlib.pyplot as plt\n",
    "import seaborn as sns\n",
    "\n",
    "sns.histplot(men_data['total_score'], kde=True, label='Men', color='blue')\n",
    "plt.show()\n",
    "sns.histplot(women_data['total_score'], kde=True, label='Women', color='red')\n",
    "plt.show()"
   ]
  },
  {
   "cell_type": "code",
   "execution_count": null,
   "id": "bea27db1",
   "metadata": {},
   "outputs": [],
   "source": [
    "import scipy.stats as stats\n",
    "\n",
    "stat_m, p_val_m = stats.shapiro(men_data['total_score'])\n",
    "print(f\"Shapiro-Wilk Test statistic: {stat_m}\")\n",
    "print(f\"Shapiro-Wilk Test p-value: {p_val_m}\")\n",
    "\n",
    "stat_w, p_val_w = stats.shapiro(women_data['total_score'])\n",
    "print(f\"Shapiro-Wilk Test statistic: {stat_w}\")\n",
    "print(f\"Shapiro-Wilk Test p-value: {p_val_w}\")\n",
    "\n"
   ]
  },
  {
   "cell_type": "code",
   "execution_count": null,
   "id": "b43bb7f9",
   "metadata": {},
   "outputs": [],
   "source": [
    "alpha = 0.1\n",
    "t_stat, p_val = stats.mannwhitneyu(women_data['total_score'], men_data['total_score'], alternative='greater')\n",
    "\n",
    "result_dict = {'p_val' : p_val, 'result' : 'reject'}\n",
    "print(result_dict)"
   ]
  }
 ],
 "metadata": {
  "language_info": {
   "name": "python"
  }
 },
 "nbformat": 4,
 "nbformat_minor": 5
}
